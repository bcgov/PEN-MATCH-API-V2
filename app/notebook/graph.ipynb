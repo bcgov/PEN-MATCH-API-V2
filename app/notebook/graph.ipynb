{
 "cells": [
  {
   "cell_type": "code",
   "execution_count": 8,
   "id": "00d05b04",
   "metadata": {},
   "outputs": [
    {
     "data": {
      "image/png": "[encoded data removed]",
      "text/plain": [
       "<IPython.core.display.Image object>"
      ]
     },
     "metadata": {},
     "output_type": "display_data"
    }
   ],
   "source": [
    "import os\n",
    "from typing import Literal, Optional\n",
    "from langgraph.graph import StateGraph, MessagesState, START, END\n",
    "from IPython.display import Image, display\n",
    "from langchain_openai import ChatOpenAI\n",
    "from langchain_core.messages import HumanMessage, SystemMessage\n",
    "from langgraph.checkpoint.memory import MemorySaver\n",
    "from pprint import pprint\n",
    "from dotenv import load_dotenv\n",
    "from langchain_openai import AzureChatOpenAI\n",
    "\n",
    "load_dotenv()\n",
    "# --- Model Definition ---\n",
    "# OpenAI API key configured in .env file\n",
    "model = AzureChatOpenAI(\n",
    "    azure_endpoint=os.environ[\"AZURE_OPENAI_ENDPOINT\"],\n",
    "    azure_deployment=os.environ[\"AZURE_OPENAI_DEPLOYMENT_NAME\"],\n",
    "    openai_api_version=\"2024-12-01-preview\",\n",
    ")\n",
    "\n",
    "\n",
    "# --- Graph State Definition ---\n",
    "class DraftReviewState(MessagesState):\n",
    "    human_request: str\n",
    "    human_comment: Optional[str]\n",
    "    status: Literal[\"approved\", \"feedback\"]\n",
    "    assistant_response: str\n",
    "\n",
    "\n",
    "# --- Graph Nodes Definition ---\n",
    "def assistant_draft(state: DraftReviewState) -> DraftReviewState:\n",
    "    user_message = HumanMessage(content=state[\"human_request\"])\n",
    "    status = state.get(\"status\", \"approved\")\n",
    "\n",
    "    if (status == \"feedback\" and state.get(\"human_comment\")):\n",
    "        human_comment = HumanMessage(content=state[\"human_comment\"])\n",
    "\n",
    "        system_message = SystemMessage(content=(f\"\"\"\n",
    "        You are an AI assistant revising your previous draft. Carefully review the human's \n",
    "        feedback and update your reply accordingly. Address all comments, corrections, \n",
    "        or suggestions provided by the human. Ensure your revised response fully \n",
    "        integrates the feedback, improves clarity, and resolves any issues raised.\n",
    "        \"\"\"))\n",
    "\n",
    "        messages = [user_message] + state[\"messages\"] + [system_message, human_comment]\n",
    "        all_messages = state[\"messages\"] + [human_comment]\n",
    "\n",
    "    else:\n",
    "        system_message = SystemMessage(content=(\"\"\"\n",
    "        You are an AI assistant. Your goal is to fully understand and fulfill the user's \n",
    "        request by preparing a relevant, clear, and helpful draft reply. Focus on addressing \n",
    "        the user's needs directly and comprehensively. \n",
    "        Do not reference any previous human feedback at this stage.\n",
    "        \"\"\"))\n",
    "        messages = [system_message, user_message]\n",
    "        all_messages = state[\"messages\"]\n",
    "    \n",
    "    response = model.invoke(messages)\n",
    "\n",
    "    all_messages = all_messages + [response]\n",
    "\n",
    "    return {\n",
    "        **state,\n",
    "        \"messages\": all_messages,\n",
    "        \"assistant_response\": response.content\n",
    "    }\n",
    "\n",
    "\n",
    "def human_feedback(state: DraftReviewState):\n",
    "    pass\n",
    "\n",
    "\n",
    "def assistant_finalize(state: DraftReviewState) -> DraftReviewState:\n",
    "    system_message = \"\"\"\n",
    "    You are an AI assistant. The user has approved your draft. Carefully \n",
    "    review your reply and make any final improvements to clarity, tone, and \n",
    "    completeness. Ensure the response is polished, professional, and ready \n",
    "    to be delivered as the final answer.\n",
    "    \"\"\"\n",
    "    messages = [system_message] + state[\"messages\"]\n",
    "    response = model.invoke(messages)\n",
    "\n",
    "    all_messages = state['messages'] + [response]\n",
    "\n",
    "    return {\n",
    "        **state,\n",
    "        \"messages\": all_messages,\n",
    "        \"assistant_response\": response.content\n",
    "    }\n",
    "    \n",
    "\n",
    "# --- Router Function ---\n",
    "def feedback_router(state: DraftReviewState) -> str:\n",
    "    if state['status'] == 'approved':\n",
    "        return 'assistant_finalize'\n",
    "    else:\n",
    "        return 'assistant_draft'\n",
    "\n",
    "# --- Graph Construction ---\n",
    "builder = StateGraph(DraftReviewState)\n",
    "\n",
    "# builder.add_node('start', start_node)\n",
    "builder.add_node('assistant_draft', assistant_draft)\n",
    "builder.add_node('human_feedback', human_feedback)\n",
    "builder.add_node('assistant_finalize', assistant_finalize)\n",
    "\n",
    "builder.add_edge(START, 'assistant_draft')\n",
    "builder.add_edge('assistant_draft', 'human_feedback')\n",
    "builder.add_conditional_edges('human_feedback', feedback_router, {'assistant_finalize': 'assistant_finalize', 'assistant_draft': 'assistant_draft'})\n",
    "builder.add_edge('assistant_finalize', END)\n",
    "\n",
    "memory = MemorySaver()\n",
    "graph = builder.compile(interrupt_before=[\"human_feedback\"], checkpointer=memory)\n",
    "display(Image(graph.get_graph().draw_mermaid_png()))"
   ]
  },
  {
   "cell_type": "code",
   "execution_count": 9,
   "id": "ea654b06",
   "metadata": {},
   "outputs": [
    {
     "data": {
      "text/plain": [
       "{'messages': [AIMessage(content='HITL stands for Human-In-The-Loop, a concept primarily used in fields such as artificial intelligence, machine learning, and automated systems. It refers to a model of operation where human input is incorporated into the decision-making process or task execution. HITL is essential in situations where complex, nuanced, or context-dependent decisions are necessary, and it enhances the overall output and reliability of automated systems.\\n\\nHere are some key aspects of HITL:\\n\\n1. **Collaboration**: HITL emphasizes the collaboration between humans and machines, where humans provide oversight, validation, and necessary adjustments to automated processes.\\n\\n2. **Quality Control**: Human intervention is often required to ensure the quality and accuracy of the output, especially in tasks involving subjective judgments, ethics, or sensitivity to context.\\n\\n3. **Learning and Improvement**: By including human feedback, systems can learn and improve over time, refining their algorithms and decision processes based on real-world experiences.\\n\\n4. **Applications**: HITL is used in various applications, such as autonomous vehicles, natural language processing, data labeling, and any automated system that benefits from human expertise.\\n\\n5. **Adaptive Systems**: In HITL systems, the machine can adapt to human feedback, which helps in better understanding user preferences and contexts.\\n\\nIn summary, HITL integrates human expertise with automated systems to enhance performance, improve decision-making, and ensure the reliability of results in complex scenarios.', additional_kwargs={'refusal': None}, response_metadata={'token_usage': {'completion_tokens': 285, 'prompt_tokens': 76, 'total_tokens': 361, 'completion_tokens_details': {'accepted_prediction_tokens': 0, 'audio_tokens': 0, 'reasoning_tokens': 0, 'rejected_prediction_tokens': 0}, 'prompt_tokens_details': {'audio_tokens': 0, 'cached_tokens': 0}}, 'model_name': 'gpt-4o-mini-2024-07-18', 'system_fingerprint': 'fp_efad92c60b', 'id': 'chatcmpl-CA0lmvfcyWsCQemJQHtIPs6INoz2D', 'service_tier': None, 'prompt_filter_results': [{'prompt_index': 0, 'content_filter_results': {'hate': {'filtered': False, 'severity': 'safe'}, 'jailbreak': {'filtered': False, 'detected': False}, 'self_harm': {'filtered': False, 'severity': 'safe'}, 'sexual': {'filtered': False, 'severity': 'safe'}, 'violence': {'filtered': False, 'severity': 'safe'}}}], 'finish_reason': 'stop', 'logprobs': None, 'content_filter_results': {'hate': {'filtered': False, 'severity': 'safe'}, 'protected_material_code': {'filtered': False, 'detected': False}, 'protected_material_text': {'filtered': False, 'detected': False}, 'self_harm': {'filtered': False, 'severity': 'safe'}, 'sexual': {'filtered': False, 'severity': 'safe'}, 'violence': {'filtered': False, 'severity': 'safe'}}}, id='run--8947d536-3a87-48ef-9b95-0274058d54a3-0', usage_metadata={'input_tokens': 76, 'output_tokens': 285, 'total_tokens': 361, 'input_token_details': {'audio': 0, 'cache_read': 0}, 'output_token_details': {'audio': 0, 'reasoning': 0}})],\n",
       " 'human_request': 'Explain what is HITL',\n",
       " 'assistant_response': 'HITL stands for Human-In-The-Loop, a concept primarily used in fields such as artificial intelligence, machine learning, and automated systems. It refers to a model of operation where human input is incorporated into the decision-making process or task execution. HITL is essential in situations where complex, nuanced, or context-dependent decisions are necessary, and it enhances the overall output and reliability of automated systems.\\n\\nHere are some key aspects of HITL:\\n\\n1. **Collaboration**: HITL emphasizes the collaboration between humans and machines, where humans provide oversight, validation, and necessary adjustments to automated processes.\\n\\n2. **Quality Control**: Human intervention is often required to ensure the quality and accuracy of the output, especially in tasks involving subjective judgments, ethics, or sensitivity to context.\\n\\n3. **Learning and Improvement**: By including human feedback, systems can learn and improve over time, refining their algorithms and decision processes based on real-world experiences.\\n\\n4. **Applications**: HITL is used in various applications, such as autonomous vehicles, natural language processing, data labeling, and any automated system that benefits from human expertise.\\n\\n5. **Adaptive Systems**: In HITL systems, the machine can adapt to human feedback, which helps in better understanding user preferences and contexts.\\n\\nIn summary, HITL integrates human expertise with automated systems to enhance performance, improve decision-making, and ensure the reliability of results in complex scenarios.'}"
      ]
     },
     "execution_count": 9,
     "metadata": {},
     "output_type": "execute_result"
    }
   ],
   "source": [
    "config = {\"configurable\": {\"thread_id\": \"1\"}}\n",
    "\n",
    "result = graph.invoke({\"human_request\": \"Explain what is HITL\"}, config)\n",
    "result"
   ]
  },
  {
   "cell_type": "code",
   "execution_count": 10,
   "id": "259eee91",
   "metadata": {},
   "outputs": [
    {
     "name": "stdout",
     "output_type": "stream",
     "text": [
      "StateSnapshot(values={'messages': [AIMessage(content='HITL stands for Human-In-The-Loop, a concept primarily used in fields such as artificial intelligence, machine learning, and automated systems. It refers to a model of operation where human input is incorporated into the decision-making process or task execution. HITL is essential in situations where complex, nuanced, or context-dependent decisions are necessary, and it enhances the overall output and reliability of automated systems.\\n\\nHere are some key aspects of HITL:\\n\\n1. **Collaboration**: HITL emphasizes the collaboration between humans and machines, where humans provide oversight, validation, and necessary adjustments to automated processes.\\n\\n2. **Quality Control**: Human intervention is often required to ensure the quality and accuracy of the output, especially in tasks involving subjective judgments, ethics, or sensitivity to context.\\n\\n3. **Learning and Improvement**: By including human feedback, systems can learn and improve over time, refining their algorithms and decision processes based on real-world experiences.\\n\\n4. **Applications**: HITL is used in various applications, such as autonomous vehicles, natural language processing, data labeling, and any automated system that benefits from human expertise.\\n\\n5. **Adaptive Systems**: In HITL systems, the machine can adapt to human feedback, which helps in better understanding user preferences and contexts.\\n\\nIn summary, HITL integrates human expertise with automated systems to enhance performance, improve decision-making, and ensure the reliability of results in complex scenarios.', additional_kwargs={'refusal': None}, response_metadata={'token_usage': {'completion_tokens': 285, 'prompt_tokens': 76, 'total_tokens': 361, 'completion_tokens_details': {'accepted_prediction_tokens': 0, 'audio_tokens': 0, 'reasoning_tokens': 0, 'rejected_prediction_tokens': 0}, 'prompt_tokens_details': {'audio_tokens': 0, 'cached_tokens': 0}}, 'model_name': 'gpt-4o-mini-2024-07-18', 'system_fingerprint': 'fp_efad92c60b', 'id': 'chatcmpl-CA0lmvfcyWsCQemJQHtIPs6INoz2D', 'service_tier': None, 'prompt_filter_results': [{'prompt_index': 0, 'content_filter_results': {'hate': {'filtered': False, 'severity': 'safe'}, 'jailbreak': {'filtered': False, 'detected': False}, 'self_harm': {'filtered': False, 'severity': 'safe'}, 'sexual': {'filtered': False, 'severity': 'safe'}, 'violence': {'filtered': False, 'severity': 'safe'}}}], 'finish_reason': 'stop', 'logprobs': None, 'content_filter_results': {'hate': {'filtered': False, 'severity': 'safe'}, 'protected_material_code': {'filtered': False, 'detected': False}, 'protected_material_text': {'filtered': False, 'detected': False}, 'self_harm': {'filtered': False, 'severity': 'safe'}, 'sexual': {'filtered': False, 'severity': 'safe'}, 'violence': {'filtered': False, 'severity': 'safe'}}}, id='run--8947d536-3a87-48ef-9b95-0274058d54a3-0', usage_metadata={'input_tokens': 76, 'output_tokens': 285, 'total_tokens': 361, 'input_token_details': {'audio': 0, 'cache_read': 0}, 'output_token_details': {'audio': 0, 'reasoning': 0}})], 'human_request': 'Explain what is HITL', 'assistant_response': 'HITL stands for Human-In-The-Loop, a concept primarily used in fields such as artificial intelligence, machine learning, and automated systems. It refers to a model of operation where human input is incorporated into the decision-making process or task execution. HITL is essential in situations where complex, nuanced, or context-dependent decisions are necessary, and it enhances the overall output and reliability of automated systems.\\n\\nHere are some key aspects of HITL:\\n\\n1. **Collaboration**: HITL emphasizes the collaboration between humans and machines, where humans provide oversight, validation, and necessary adjustments to automated processes.\\n\\n2. **Quality Control**: Human intervention is often required to ensure the quality and accuracy of the output, especially in tasks involving subjective judgments, ethics, or sensitivity to context.\\n\\n3. **Learning and Improvement**: By including human feedback, systems can learn and improve over time, refining their algorithms and decision processes based on real-world experiences.\\n\\n4. **Applications**: HITL is used in various applications, such as autonomous vehicles, natural language processing, data labeling, and any automated system that benefits from human expertise.\\n\\n5. **Adaptive Systems**: In HITL systems, the machine can adapt to human feedback, which helps in better understanding user preferences and contexts.\\n\\nIn summary, HITL integrates human expertise with automated systems to enhance performance, improve decision-making, and ensure the reliability of results in complex scenarios.'}, next=('human_feedback',), config={'configurable': {'thread_id': '1', 'checkpoint_ns': '', 'checkpoint_id': '1f0851da-220c-6e34-8001-83a230f97067'}}, metadata={'source': 'loop', 'step': 1, 'parents': {}}, created_at='2025-08-29T21:17:56.908981+00:00', parent_config={'configurable': {'thread_id': '1', 'checkpoint_ns': '', 'checkpoint_id': '1f0851da-03c4-60bc-8000-400d1a9dce38'}}, tasks=(PregelTask(id='e8283484-f940-9302-1d8f-9b3d10a82091', name='human_feedback', path=('__pregel_pull', 'human_feedback'), error=None, interrupts=(), state=None, result=None),), interrupts=())\n"
     ]
    }
   ],
   "source": [
    "state = graph.get_state(config)\n",
    "pprint(state)"
   ]
  },
  {
   "cell_type": "code",
   "execution_count": 11,
   "id": "0d146aa6",
   "metadata": {},
   "outputs": [
    {
     "data": {
      "text/plain": [
       "{'configurable': {'thread_id': '1',\n",
       "  'checkpoint_ns': '',\n",
       "  'checkpoint_id': '1f0851da-ecdc-6fba-8002-8d1bf352dc01'}}"
      ]
     },
     "execution_count": 11,
     "metadata": {},
     "output_type": "execute_result"
    }
   ],
   "source": [
    "graph.update_state(config, {\n",
    "    \"status\": \"feedback\",\n",
    "    \"human_comment\": \"Make your answer only one sentence short!\"\n",
    "})"
   ]
  },
  {
   "cell_type": "code",
   "execution_count": 12,
   "id": "6c6d77b9",
   "metadata": {},
   "outputs": [
    {
     "data": {
      "text/plain": [
       "{'messages': [AIMessage(content='HITL stands for Human-In-The-Loop, a concept primarily used in fields such as artificial intelligence, machine learning, and automated systems. It refers to a model of operation where human input is incorporated into the decision-making process or task execution. HITL is essential in situations where complex, nuanced, or context-dependent decisions are necessary, and it enhances the overall output and reliability of automated systems.\\n\\nHere are some key aspects of HITL:\\n\\n1. **Collaboration**: HITL emphasizes the collaboration between humans and machines, where humans provide oversight, validation, and necessary adjustments to automated processes.\\n\\n2. **Quality Control**: Human intervention is often required to ensure the quality and accuracy of the output, especially in tasks involving subjective judgments, ethics, or sensitivity to context.\\n\\n3. **Learning and Improvement**: By including human feedback, systems can learn and improve over time, refining their algorithms and decision processes based on real-world experiences.\\n\\n4. **Applications**: HITL is used in various applications, such as autonomous vehicles, natural language processing, data labeling, and any automated system that benefits from human expertise.\\n\\n5. **Adaptive Systems**: In HITL systems, the machine can adapt to human feedback, which helps in better understanding user preferences and contexts.\\n\\nIn summary, HITL integrates human expertise with automated systems to enhance performance, improve decision-making, and ensure the reliability of results in complex scenarios.', additional_kwargs={'refusal': None}, response_metadata={'token_usage': {'completion_tokens': 285, 'prompt_tokens': 76, 'total_tokens': 361, 'completion_tokens_details': {'accepted_prediction_tokens': 0, 'audio_tokens': 0, 'reasoning_tokens': 0, 'rejected_prediction_tokens': 0}, 'prompt_tokens_details': {'audio_tokens': 0, 'cached_tokens': 0}}, 'model_name': 'gpt-4o-mini-2024-07-18', 'system_fingerprint': 'fp_efad92c60b', 'id': 'chatcmpl-CA0lmvfcyWsCQemJQHtIPs6INoz2D', 'service_tier': None, 'prompt_filter_results': [{'prompt_index': 0, 'content_filter_results': {'hate': {'filtered': False, 'severity': 'safe'}, 'jailbreak': {'filtered': False, 'detected': False}, 'self_harm': {'filtered': False, 'severity': 'safe'}, 'sexual': {'filtered': False, 'severity': 'safe'}, 'violence': {'filtered': False, 'severity': 'safe'}}}], 'finish_reason': 'stop', 'logprobs': None, 'content_filter_results': {'hate': {'filtered': False, 'severity': 'safe'}, 'protected_material_code': {'filtered': False, 'detected': False}, 'protected_material_text': {'filtered': False, 'detected': False}, 'self_harm': {'filtered': False, 'severity': 'safe'}, 'sexual': {'filtered': False, 'severity': 'safe'}, 'violence': {'filtered': False, 'severity': 'safe'}}}, id='run--8947d536-3a87-48ef-9b95-0274058d54a3-0', usage_metadata={'input_tokens': 76, 'output_tokens': 285, 'total_tokens': 361, 'input_token_details': {'audio': 0, 'cache_read': 0}, 'output_token_details': {'audio': 0, 'reasoning': 0}}),\n",
       "  HumanMessage(content='Make your answer only one sentence short!', additional_kwargs={}, response_metadata={}, id='98f91598-d64f-4028-80fa-27ea0031ab47'),\n",
       "  AIMessage(content='HITL, or Human-In-The-Loop, is a concept in which human input is integrated into automated systems and decision-making processes to ensure quality, adaptability, and improved outcomes, especially in complex scenarios.', additional_kwargs={'refusal': None}, response_metadata={'token_usage': {'completion_tokens': 43, 'prompt_tokens': 379, 'total_tokens': 422, 'completion_tokens_details': {'accepted_prediction_tokens': 0, 'audio_tokens': 0, 'reasoning_tokens': 0, 'rejected_prediction_tokens': 0}, 'prompt_tokens_details': {'audio_tokens': 0, 'cached_tokens': 0}}, 'model_name': 'gpt-4o-mini-2024-07-18', 'system_fingerprint': 'fp_efad92c60b', 'id': 'chatcmpl-CA0mMB7TUwvFnAwJqRhcAp5bmh8XB', 'service_tier': None, 'prompt_filter_results': [{'prompt_index': 0, 'content_filter_results': {'hate': {'filtered': False, 'severity': 'safe'}, 'jailbreak': {'filtered': False, 'detected': False}, 'self_harm': {'filtered': False, 'severity': 'safe'}, 'sexual': {'filtered': False, 'severity': 'safe'}, 'violence': {'filtered': False, 'severity': 'safe'}}}], 'finish_reason': 'stop', 'logprobs': None, 'content_filter_results': {'hate': {'filtered': False, 'severity': 'safe'}, 'self_harm': {'filtered': False, 'severity': 'safe'}, 'sexual': {'filtered': False, 'severity': 'safe'}, 'violence': {'filtered': False, 'severity': 'safe'}}}, id='run--44404706-ad2b-4c9a-81d6-390d1938718f-0', usage_metadata={'input_tokens': 379, 'output_tokens': 43, 'total_tokens': 422, 'input_token_details': {'audio': 0, 'cache_read': 0}, 'output_token_details': {'audio': 0, 'reasoning': 0}})],\n",
       " 'human_request': 'Explain what is HITL',\n",
       " 'human_comment': 'Make your answer only one sentence short!',\n",
       " 'status': 'feedback',\n",
       " 'assistant_response': 'HITL, or Human-In-The-Loop, is a concept in which human input is integrated into automated systems and decision-making processes to ensure quality, adaptability, and improved outcomes, especially in complex scenarios.'}"
      ]
     },
     "execution_count": 12,
     "metadata": {},
     "output_type": "execute_result"
    }
   ],
   "source": [
    "resumed_result = graph.invoke(None, config)\n",
    "resumed_result"
   ]
  },
  {
   "cell_type": "code",
   "execution_count": 13,
   "id": "524b78b5",
   "metadata": {},
   "outputs": [
    {
     "data": {
      "text/plain": [
       "{'configurable': {'thread_id': '1',\n",
       "  'checkpoint_ns': '',\n",
       "  'checkpoint_id': '1f0851db-bdcb-627a-8005-346f01f2dd8c'}}"
      ]
     },
     "execution_count": 13,
     "metadata": {},
     "output_type": "execute_result"
    }
   ],
   "source": [
    "graph.update_state(config, {\n",
    "    \"status\": \"approved\"\n",
    "})"
   ]
  },
  {
   "cell_type": "code",
   "execution_count": 14,
   "id": "8ffa1179",
   "metadata": {},
   "outputs": [
    {
     "data": {
      "text/plain": [
       "{'messages': [AIMessage(content='HITL stands for Human-In-The-Loop, a concept primarily used in fields such as artificial intelligence, machine learning, and automated systems. It refers to a model of operation where human input is incorporated into the decision-making process or task execution. HITL is essential in situations where complex, nuanced, or context-dependent decisions are necessary, and it enhances the overall output and reliability of automated systems.\\n\\nHere are some key aspects of HITL:\\n\\n1. **Collaboration**: HITL emphasizes the collaboration between humans and machines, where humans provide oversight, validation, and necessary adjustments to automated processes.\\n\\n2. **Quality Control**: Human intervention is often required to ensure the quality and accuracy of the output, especially in tasks involving subjective judgments, ethics, or sensitivity to context.\\n\\n3. **Learning and Improvement**: By including human feedback, systems can learn and improve over time, refining their algorithms and decision processes based on real-world experiences.\\n\\n4. **Applications**: HITL is used in various applications, such as autonomous vehicles, natural language processing, data labeling, and any automated system that benefits from human expertise.\\n\\n5. **Adaptive Systems**: In HITL systems, the machine can adapt to human feedback, which helps in better understanding user preferences and contexts.\\n\\nIn summary, HITL integrates human expertise with automated systems to enhance performance, improve decision-making, and ensure the reliability of results in complex scenarios.', additional_kwargs={'refusal': None}, response_metadata={'token_usage': {'completion_tokens': 285, 'prompt_tokens': 76, 'total_tokens': 361, 'completion_tokens_details': {'accepted_prediction_tokens': 0, 'audio_tokens': 0, 'reasoning_tokens': 0, 'rejected_prediction_tokens': 0}, 'prompt_tokens_details': {'audio_tokens': 0, 'cached_tokens': 0}}, 'model_name': 'gpt-4o-mini-2024-07-18', 'system_fingerprint': 'fp_efad92c60b', 'id': 'chatcmpl-CA0lmvfcyWsCQemJQHtIPs6INoz2D', 'service_tier': None, 'prompt_filter_results': [{'prompt_index': 0, 'content_filter_results': {'hate': {'filtered': False, 'severity': 'safe'}, 'jailbreak': {'filtered': False, 'detected': False}, 'self_harm': {'filtered': False, 'severity': 'safe'}, 'sexual': {'filtered': False, 'severity': 'safe'}, 'violence': {'filtered': False, 'severity': 'safe'}}}], 'finish_reason': 'stop', 'logprobs': None, 'content_filter_results': {'hate': {'filtered': False, 'severity': 'safe'}, 'protected_material_code': {'filtered': False, 'detected': False}, 'protected_material_text': {'filtered': False, 'detected': False}, 'self_harm': {'filtered': False, 'severity': 'safe'}, 'sexual': {'filtered': False, 'severity': 'safe'}, 'violence': {'filtered': False, 'severity': 'safe'}}}, id='run--8947d536-3a87-48ef-9b95-0274058d54a3-0', usage_metadata={'input_tokens': 76, 'output_tokens': 285, 'total_tokens': 361, 'input_token_details': {'audio': 0, 'cache_read': 0}, 'output_token_details': {'audio': 0, 'reasoning': 0}}),\n",
       "  HumanMessage(content='Make your answer only one sentence short!', additional_kwargs={}, response_metadata={}, id='98f91598-d64f-4028-80fa-27ea0031ab47'),\n",
       "  AIMessage(content='HITL, or Human-In-The-Loop, is a concept in which human input is integrated into automated systems and decision-making processes to ensure quality, adaptability, and improved outcomes, especially in complex scenarios.', additional_kwargs={'refusal': None}, response_metadata={'token_usage': {'completion_tokens': 43, 'prompt_tokens': 379, 'total_tokens': 422, 'completion_tokens_details': {'accepted_prediction_tokens': 0, 'audio_tokens': 0, 'reasoning_tokens': 0, 'rejected_prediction_tokens': 0}, 'prompt_tokens_details': {'audio_tokens': 0, 'cached_tokens': 0}}, 'model_name': 'gpt-4o-mini-2024-07-18', 'system_fingerprint': 'fp_efad92c60b', 'id': 'chatcmpl-CA0mMB7TUwvFnAwJqRhcAp5bmh8XB', 'service_tier': None, 'prompt_filter_results': [{'prompt_index': 0, 'content_filter_results': {'hate': {'filtered': False, 'severity': 'safe'}, 'jailbreak': {'filtered': False, 'detected': False}, 'self_harm': {'filtered': False, 'severity': 'safe'}, 'sexual': {'filtered': False, 'severity': 'safe'}, 'violence': {'filtered': False, 'severity': 'safe'}}}], 'finish_reason': 'stop', 'logprobs': None, 'content_filter_results': {'hate': {'filtered': False, 'severity': 'safe'}, 'self_harm': {'filtered': False, 'severity': 'safe'}, 'sexual': {'filtered': False, 'severity': 'safe'}, 'violence': {'filtered': False, 'severity': 'safe'}}}, id='run--44404706-ad2b-4c9a-81d6-390d1938718f-0', usage_metadata={'input_tokens': 379, 'output_tokens': 43, 'total_tokens': 422, 'input_token_details': {'audio': 0, 'cache_read': 0}, 'output_token_details': {'audio': 0, 'reasoning': 0}}),\n",
       "  AIMessage(content='HITL, or Human-In-The-Loop, is a concept where human input is integrated into automated systems and decision-making processes to ensure quality, adaptability, and improved outcomes in complex scenarios.', additional_kwargs={'refusal': None}, response_metadata={'token_usage': {'completion_tokens': 40, 'prompt_tokens': 410, 'total_tokens': 450, 'completion_tokens_details': {'accepted_prediction_tokens': 0, 'audio_tokens': 0, 'reasoning_tokens': 0, 'rejected_prediction_tokens': 0}, 'prompt_tokens_details': {'audio_tokens': 0, 'cached_tokens': 0}}, 'model_name': 'gpt-4o-mini-2024-07-18', 'system_fingerprint': 'fp_efad92c60b', 'id': 'chatcmpl-CA0mfFWJXeqjmEuQoQSmwk9uHEiVJ', 'service_tier': None, 'prompt_filter_results': [{'prompt_index': 0, 'content_filter_results': {'hate': {'filtered': False, 'severity': 'safe'}, 'jailbreak': {'filtered': False, 'detected': False}, 'self_harm': {'filtered': False, 'severity': 'safe'}, 'sexual': {'filtered': False, 'severity': 'safe'}, 'violence': {'filtered': False, 'severity': 'safe'}}}], 'finish_reason': 'stop', 'logprobs': None, 'content_filter_results': {'hate': {'filtered': False, 'severity': 'safe'}, 'self_harm': {'filtered': False, 'severity': 'safe'}, 'sexual': {'filtered': False, 'severity': 'safe'}, 'violence': {'filtered': False, 'severity': 'safe'}}}, id='run--a14c9643-cb00-4945-87d1-4b8aa4b627ad-0', usage_metadata={'input_tokens': 410, 'output_tokens': 40, 'total_tokens': 450, 'input_token_details': {'audio': 0, 'cache_read': 0}, 'output_token_details': {'audio': 0, 'reasoning': 0}})],\n",
       " 'human_request': 'Explain what is HITL',\n",
       " 'human_comment': 'Make your answer only one sentence short!',\n",
       " 'status': 'approved',\n",
       " 'assistant_response': 'HITL, or Human-In-The-Loop, is a concept where human input is integrated into automated systems and decision-making processes to ensure quality, adaptability, and improved outcomes in complex scenarios.'}"
      ]
     },
     "execution_count": 14,
     "metadata": {},
     "output_type": "execute_result"
    }
   ],
   "source": [
    "resumed_result = graph.invoke(None, config)\n",
    "resumed_result"
   ]
  },
  {
   "cell_type": "code",
   "execution_count": 15,
   "id": "7c64b4eb",
   "metadata": {},
   "outputs": [
    {
     "name": "stdout",
     "output_type": "stream",
     "text": [
      "StateSnapshot(values={'messages': [AIMessage(content='HITL stands for Human-In-The-Loop, a concept primarily used in fields such as artificial intelligence, machine learning, and automated systems. It refers to a model of operation where human input is incorporated into the decision-making process or task execution. HITL is essential in situations where complex, nuanced, or context-dependent decisions are necessary, and it enhances the overall output and reliability of automated systems.\\n\\nHere are some key aspects of HITL:\\n\\n1. **Collaboration**: HITL emphasizes the collaboration between humans and machines, where humans provide oversight, validation, and necessary adjustments to automated processes.\\n\\n2. **Quality Control**: Human intervention is often required to ensure the quality and accuracy of the output, especially in tasks involving subjective judgments, ethics, or sensitivity to context.\\n\\n3. **Learning and Improvement**: By including human feedback, systems can learn and improve over time, refining their algorithms and decision processes based on real-world experiences.\\n\\n4. **Applications**: HITL is used in various applications, such as autonomous vehicles, natural language processing, data labeling, and any automated system that benefits from human expertise.\\n\\n5. **Adaptive Systems**: In HITL systems, the machine can adapt to human feedback, which helps in better understanding user preferences and contexts.\\n\\nIn summary, HITL integrates human expertise with automated systems to enhance performance, improve decision-making, and ensure the reliability of results in complex scenarios.', additional_kwargs={'refusal': None}, response_metadata={'token_usage': {'completion_tokens': 285, 'prompt_tokens': 76, 'total_tokens': 361, 'completion_tokens_details': {'accepted_prediction_tokens': 0, 'audio_tokens': 0, 'reasoning_tokens': 0, 'rejected_prediction_tokens': 0}, 'prompt_tokens_details': {'audio_tokens': 0, 'cached_tokens': 0}}, 'model_name': 'gpt-4o-mini-2024-07-18', 'system_fingerprint': 'fp_efad92c60b', 'id': 'chatcmpl-CA0lmvfcyWsCQemJQHtIPs6INoz2D', 'service_tier': None, 'prompt_filter_results': [{'prompt_index': 0, 'content_filter_results': {'hate': {'filtered': False, 'severity': 'safe'}, 'jailbreak': {'filtered': False, 'detected': False}, 'self_harm': {'filtered': False, 'severity': 'safe'}, 'sexual': {'filtered': False, 'severity': 'safe'}, 'violence': {'filtered': False, 'severity': 'safe'}}}], 'finish_reason': 'stop', 'logprobs': None, 'content_filter_results': {'hate': {'filtered': False, 'severity': 'safe'}, 'protected_material_code': {'filtered': False, 'detected': False}, 'protected_material_text': {'filtered': False, 'detected': False}, 'self_harm': {'filtered': False, 'severity': 'safe'}, 'sexual': {'filtered': False, 'severity': 'safe'}, 'violence': {'filtered': False, 'severity': 'safe'}}}, id='run--8947d536-3a87-48ef-9b95-0274058d54a3-0', usage_metadata={'input_tokens': 76, 'output_tokens': 285, 'total_tokens': 361, 'input_token_details': {'audio': 0, 'cache_read': 0}, 'output_token_details': {'audio': 0, 'reasoning': 0}}), HumanMessage(content='Make your answer only one sentence short!', additional_kwargs={}, response_metadata={}, id='98f91598-d64f-4028-80fa-27ea0031ab47'), AIMessage(content='HITL, or Human-In-The-Loop, is a concept in which human input is integrated into automated systems and decision-making processes to ensure quality, adaptability, and improved outcomes, especially in complex scenarios.', additional_kwargs={'refusal': None}, response_metadata={'token_usage': {'completion_tokens': 43, 'prompt_tokens': 379, 'total_tokens': 422, 'completion_tokens_details': {'accepted_prediction_tokens': 0, 'audio_tokens': 0, 'reasoning_tokens': 0, 'rejected_prediction_tokens': 0}, 'prompt_tokens_details': {'audio_tokens': 0, 'cached_tokens': 0}}, 'model_name': 'gpt-4o-mini-2024-07-18', 'system_fingerprint': 'fp_efad92c60b', 'id': 'chatcmpl-CA0mMB7TUwvFnAwJqRhcAp5bmh8XB', 'service_tier': None, 'prompt_filter_results': [{'prompt_index': 0, 'content_filter_results': {'hate': {'filtered': False, 'severity': 'safe'}, 'jailbreak': {'filtered': False, 'detected': False}, 'self_harm': {'filtered': False, 'severity': 'safe'}, 'sexual': {'filtered': False, 'severity': 'safe'}, 'violence': {'filtered': False, 'severity': 'safe'}}}], 'finish_reason': 'stop', 'logprobs': None, 'content_filter_results': {'hate': {'filtered': False, 'severity': 'safe'}, 'self_harm': {'filtered': False, 'severity': 'safe'}, 'sexual': {'filtered': False, 'severity': 'safe'}, 'violence': {'filtered': False, 'severity': 'safe'}}}, id='run--44404706-ad2b-4c9a-81d6-390d1938718f-0', usage_metadata={'input_tokens': 379, 'output_tokens': 43, 'total_tokens': 422, 'input_token_details': {'audio': 0, 'cache_read': 0}, 'output_token_details': {'audio': 0, 'reasoning': 0}}), AIMessage(content='HITL, or Human-In-The-Loop, is a concept where human input is integrated into automated systems and decision-making processes to ensure quality, adaptability, and improved outcomes in complex scenarios.', additional_kwargs={'refusal': None}, response_metadata={'token_usage': {'completion_tokens': 40, 'prompt_tokens': 410, 'total_tokens': 450, 'completion_tokens_details': {'accepted_prediction_tokens': 0, 'audio_tokens': 0, 'reasoning_tokens': 0, 'rejected_prediction_tokens': 0}, 'prompt_tokens_details': {'audio_tokens': 0, 'cached_tokens': 0}}, 'model_name': 'gpt-4o-mini-2024-07-18', 'system_fingerprint': 'fp_efad92c60b', 'id': 'chatcmpl-CA0mfFWJXeqjmEuQoQSmwk9uHEiVJ', 'service_tier': None, 'prompt_filter_results': [{'prompt_index': 0, 'content_filter_results': {'hate': {'filtered': False, 'severity': 'safe'}, 'jailbreak': {'filtered': False, 'detected': False}, 'self_harm': {'filtered': False, 'severity': 'safe'}, 'sexual': {'filtered': False, 'severity': 'safe'}, 'violence': {'filtered': False, 'severity': 'safe'}}}], 'finish_reason': 'stop', 'logprobs': None, 'content_filter_results': {'hate': {'filtered': False, 'severity': 'safe'}, 'self_harm': {'filtered': False, 'severity': 'safe'}, 'sexual': {'filtered': False, 'severity': 'safe'}, 'violence': {'filtered': False, 'severity': 'safe'}}}, id='run--a14c9643-cb00-4945-87d1-4b8aa4b627ad-0', usage_metadata={'input_tokens': 410, 'output_tokens': 40, 'total_tokens': 450, 'input_token_details': {'audio': 0, 'cache_read': 0}, 'output_token_details': {'audio': 0, 'reasoning': 0}})], 'human_request': 'Explain what is HITL', 'human_comment': 'Make your answer only one sentence short!', 'status': 'approved', 'assistant_response': 'HITL, or Human-In-The-Loop, is a concept where human input is integrated into automated systems and decision-making processes to ensure quality, adaptability, and improved outcomes in complex scenarios.'}, next=(), config={'configurable': {'thread_id': '1', 'checkpoint_ns': '', 'checkpoint_id': '1f0851dc-1bf9-654a-8007-7c82ad0c04c3'}}, metadata={'source': 'loop', 'step': 7, 'parents': {}}, created_at='2025-08-29T21:18:49.958925+00:00', parent_config={'configurable': {'thread_id': '1', 'checkpoint_ns': '', 'checkpoint_id': '1f0851dc-11d6-67a2-8006-bdaeedfaf82f'}}, tasks=(), interrupts=())\n"
     ]
    }
   ],
   "source": [
    "state = graph.get_state(config)\n",
    "pprint(state)"
   ]
  }
 ],
 "metadata": {
  "kernelspec": {
   "display_name": "ai-agent (3.11.4)",
   "language": "python",
   "name": "python3"
  },
  "language_info": {
   "codemirror_mode": {
    "name": "ipython",
    "version": 3
   },
   "file_extension": ".py",
   "mimetype": "text/x-python",
   "name": "python",
   "nbconvert_exporter": "python",
   "pygments_lexer": "ipython3",
   "version": "3.11.4"
  }
 },
 "nbformat": 4,
 "nbformat_minor": 5
}
