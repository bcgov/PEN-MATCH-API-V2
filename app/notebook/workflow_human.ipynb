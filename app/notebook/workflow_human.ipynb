{
 "cells": [
  {
   "cell_type": "code",
   "execution_count": null,
   "id": "8fcbcf28",
   "metadata": {},
   "outputs": [],
   "source": [
    "from typing import TypedDict, List, Dict, Any, Optional\n",
    "from langgraph.graph import add_messages\n",
    "from IPython.display import Image, display\n",
    "class FormState(TypedDict):\n",
    "    messages: List[str]  # conversation log\n",
    "    form_fields: List[Dict[str, Any]]  # schema/payload from frontend\n",
    "    filled_fields: Dict[str, Any]  # field_id → value\n",
    "    pending_field: Optional[str]  # field_id currently being asked"
   ]
  },
  {
   "cell_type": "code",
   "execution_count": 2,
   "id": "5aa1ee4d",
   "metadata": {},
   "outputs": [],
   "source": [
    "def parse_input(state: FormState) -> FormState:\n",
    "    msg = state[\"messages\"][-1]\n",
    "    # Simple heuristic or use LLM extraction here\n",
    "    extracted = {}  \n",
    "    for field in state[\"form_fields\"]:\n",
    "        if field[\"field_label\"].lower() in msg.lower():\n",
    "            extracted[field[\"data_id\"]] = \"some parsed value\"\n",
    "    state[\"filled_fields\"].update(extracted)\n",
    "    return state"
   ]
  },
  {
   "cell_type": "code",
   "execution_count": 3,
   "id": "308adf82",
   "metadata": {},
   "outputs": [],
   "source": [
    "def fill_known_fields(state: FormState) -> FormState:\n",
    "    missing = [\n",
    "        f[\"data_id\"] for f in state[\"form_fields\"]\n",
    "        if f[\"is_required\"] and f[\"data_id\"] not in state[\"filled_fields\"]\n",
    "    ]\n",
    "    if missing:\n",
    "        state[\"pending_field\"] = missing[0]\n",
    "    else:\n",
    "        state[\"pending_field\"] = None\n",
    "    return state"
   ]
  },
  {
   "cell_type": "code",
   "execution_count": 4,
   "id": "87eabcf2",
   "metadata": {},
   "outputs": [],
   "source": [
    "def ask_missing_field(state: FormState) -> str:\n",
    "    if state[\"pending_field\"]:\n",
    "        field = next(f for f in state[\"form_fields\"] if f[\"data_id\"] == state[\"pending_field\"])\n",
    "        return f\"Can you please provide: {field['field_label']}?\"\n",
    "    return \"All fields completed!\""
   ]
  },
  {
   "cell_type": "code",
   "execution_count": 5,
   "id": "05407fac",
   "metadata": {},
   "outputs": [],
   "source": [
    "def collect_answer(state: FormState, user_input: str) -> FormState:\n",
    "    if state[\"pending_field\"]:\n",
    "        state[\"filled_fields\"][state[\"pending_field\"]] = user_input\n",
    "    state[\"pending_field\"] = None\n",
    "    return state"
   ]
  },
  {
   "cell_type": "code",
   "execution_count": 15,
   "id": "e5ac25f7",
   "metadata": {},
   "outputs": [
    {
     "ename": "AttributeError",
     "evalue": "'CompiledStateGraph' object has no attribute 'step'",
     "output_type": "error",
     "traceback": [
      "\u001b[31m---------------------------------------------------------------------------\u001b[39m",
      "\u001b[31mAttributeError\u001b[39m                            Traceback (most recent call last)",
      "\u001b[36mCell\u001b[39m\u001b[36m \u001b[39m\u001b[32mIn[15]\u001b[39m\u001b[32m, line 61\u001b[39m\n\u001b[32m     48\u001b[39m state = {\n\u001b[32m     49\u001b[39m     \u001b[33m\"\u001b[39m\u001b[33mmessages\u001b[39m\u001b[33m\"\u001b[39m: [\u001b[33m\"\u001b[39m\u001b[33mUser: Can you help me fill this form? My name is John Doe.\u001b[39m\u001b[33m\"\u001b[39m],\n\u001b[32m     50\u001b[39m     \u001b[33m\"\u001b[39m\u001b[33mform_fields\u001b[39m\u001b[33m\"\u001b[39m: [\n\u001b[32m   (...)\u001b[39m\u001b[32m     56\u001b[39m     \u001b[33m\"\u001b[39m\u001b[33mpending_field\u001b[39m\u001b[33m\"\u001b[39m: \u001b[38;5;28;01mNone\u001b[39;00m\n\u001b[32m     57\u001b[39m }\n\u001b[32m     59\u001b[39m \u001b[38;5;28;01mwhile\u001b[39;00m \u001b[38;5;28;01mTrue\u001b[39;00m:\n\u001b[32m     60\u001b[39m     \u001b[38;5;66;03m# Step workflow forward\u001b[39;00m\n\u001b[32m---> \u001b[39m\u001b[32m61\u001b[39m     state = \u001b[43mapp\u001b[49m\u001b[43m.\u001b[49m\u001b[43mstep\u001b[49m(state)\n\u001b[32m     63\u001b[39m     \u001b[38;5;28;01mif\u001b[39;00m \u001b[38;5;129;01mnot\u001b[39;00m state[\u001b[33m\"\u001b[39m\u001b[33mpending_field\u001b[39m\u001b[33m\"\u001b[39m]:  \u001b[38;5;66;03m# Completed form\u001b[39;00m\n\u001b[32m     64\u001b[39m         state[\u001b[33m\"\u001b[39m\u001b[33mmessages\u001b[39m\u001b[33m\"\u001b[39m].append(\u001b[33m\"\u001b[39m\u001b[33mAgent: Great! The form is complete.\u001b[39m\u001b[33m\"\u001b[39m)\n",
      "\u001b[31mAttributeError\u001b[39m: 'CompiledStateGraph' object has no attribute 'step'"
     ]
    }
   ],
   "source": [
    "import os\n",
    "from typing import Literal, Optional\n",
    "from langgraph.graph import StateGraph, MessagesState, START, END\n",
    "from IPython.display import Image, display\n",
    "from langchain_openai import ChatOpenAI\n",
    "from langchain_core.messages import HumanMessage, SystemMessage\n",
    "from langgraph.checkpoint.memory import MemorySaver\n",
    "from pprint import pprint\n",
    "from dotenv import load_dotenv\n",
    "from langchain_openai import AzureChatOpenAI\n",
    "workflow = StateGraph(FormState)\n",
    "\n",
    "workflow.add_node(\"parse_input\", parse_input)\n",
    "workflow.add_node(\"fill_known_fields\", fill_known_fields)\n",
    "workflow.add_node(\"ask_missing_field\", ask_missing_field)\n",
    "workflow.add_node(\"collect_answer\", collect_answer)\n",
    "\n",
    "workflow.add_edge(START, \"parse_input\")\n",
    "workflow.add_edge(\"parse_input\", \"fill_known_fields\")\n",
    "workflow.add_edge(\"fill_known_fields\", \"ask_missing_field\")\n",
    "workflow.add_edge(\"ask_missing_field\", \"collect_answer\")\n",
    "workflow.add_edge(\"collect_answer\", \"fill_known_fields\")\n",
    "workflow.add_edge(\"fill_known_fields\", END)\n",
    "\n",
    "app = workflow.compile()\n",
    "\n",
    "from IPython.display import display, clear_output, HTML\n",
    "from pprint import pprint\n",
    "\n",
    "# --- Conversation Display Helper ---\n",
    "def display_conversation(messages, filled_fields=None):\n",
    "    clear_output(wait=True)  # clear previous output to simulate live chat\n",
    "    html = \"<div style='font-family: Arial; line-height:1.5;'>\"\n",
    "    \n",
    "    for msg in messages:\n",
    "        if msg.startswith(\"User:\"):\n",
    "            html += f\"<div style='margin:6px 0;'><b style='color:blue;'>{msg}</b></div>\"\n",
    "        elif msg.startswith(\"Agent:\"):\n",
    "            html += f\"<div style='margin:6px 0;'><b style='color:green;'>{msg}</b></div>\"\n",
    "    \n",
    "    if filled_fields:\n",
    "        html += \"<hr><b>✅ Form Completed:</b><pre>\" + str(filled_fields) + \"</pre>\"\n",
    "    \n",
    "    html += \"</div>\"\n",
    "    display(HTML(html))\n",
    "\n",
    "# --- Execution Loop with Notebook Display ---\n",
    "state = {\n",
    "    \"messages\": [\"User: Can you help me fill this form? My name is John Doe.\"],\n",
    "    \"form_fields\": [\n",
    "        {\"data_id\": \"name\", \"field_label\": \"Full Name\", \"is_required\": True},\n",
    "        {\"data_id\": \"email\", \"field_label\": \"Email Address\", \"is_required\": True},\n",
    "        {\"data_id\": \"age\", \"field_label\": \"Age\", \"is_required\": False}\n",
    "    ],\n",
    "    \"filled_fields\": {},\n",
    "    \"pending_field\": None\n",
    "}\n",
    "\n",
    "while True:\n",
    "    # Step workflow forward\n",
    "    state = app.step(state)\n",
    "\n",
    "    if not state[\"pending_field\"]:  # Completed form\n",
    "        state[\"messages\"].append(\"Agent: Great! The form is complete.\")\n",
    "        display_conversation(state[\"messages\"], state[\"filled_fields\"])\n",
    "        break\n",
    "    else:\n",
    "        # Agent asks next missing field\n",
    "        question = ask_missing_field(state)\n",
    "        state[\"messages\"].append(f\"Agent: {question}\")\n",
    "        display_conversation(state[\"messages\"])\n",
    "        \n",
    "        # Simulate user reply (replace input() with front-end connector)\n",
    "        user_input = input(\"User: \")\n",
    "        state[\"messages\"].append(f\"User: {user_input}\")\n",
    "        state = collect_answer(state, user_input)\n",
    "\n"
   ]
  },
  {
   "cell_type": "code",
   "execution_count": 14,
   "id": "88aa8aca",
   "metadata": {},
   "outputs": [
    {
     "ename": "AttributeError",
     "evalue": "'CompiledStateGraph' object has no attribute 'step'",
     "output_type": "error",
     "traceback": [
      "\u001b[31m---------------------------------------------------------------------------\u001b[39m",
      "\u001b[31mAttributeError\u001b[39m                            Traceback (most recent call last)",
      "\u001b[36mCell\u001b[39m\u001b[36m \u001b[39m\u001b[32mIn[14]\u001b[39m\u001b[32m, line 35\u001b[39m\n\u001b[32m     22\u001b[39m state = {\n\u001b[32m     23\u001b[39m     \u001b[33m\"\u001b[39m\u001b[33mmessages\u001b[39m\u001b[33m\"\u001b[39m: [\u001b[33m\"\u001b[39m\u001b[33mUser: Can you help me fill this form? My name is John Doe.\u001b[39m\u001b[33m\"\u001b[39m],\n\u001b[32m     24\u001b[39m     \u001b[33m\"\u001b[39m\u001b[33mform_fields\u001b[39m\u001b[33m\"\u001b[39m: [\n\u001b[32m   (...)\u001b[39m\u001b[32m     30\u001b[39m     \u001b[33m\"\u001b[39m\u001b[33mpending_field\u001b[39m\u001b[33m\"\u001b[39m: \u001b[38;5;28;01mNone\u001b[39;00m\n\u001b[32m     31\u001b[39m }\n\u001b[32m     33\u001b[39m \u001b[38;5;28;01mwhile\u001b[39;00m \u001b[38;5;28;01mTrue\u001b[39;00m:\n\u001b[32m     34\u001b[39m     \u001b[38;5;66;03m# Step workflow forward\u001b[39;00m\n\u001b[32m---> \u001b[39m\u001b[32m35\u001b[39m     state = \u001b[43mapp\u001b[49m\u001b[43m.\u001b[49m\u001b[43mstep\u001b[49m(state)\n\u001b[32m     37\u001b[39m     \u001b[38;5;28;01mif\u001b[39;00m \u001b[38;5;129;01mnot\u001b[39;00m state[\u001b[33m\"\u001b[39m\u001b[33mpending_field\u001b[39m\u001b[33m\"\u001b[39m]:  \u001b[38;5;66;03m# Completed form\u001b[39;00m\n\u001b[32m     38\u001b[39m         state[\u001b[33m\"\u001b[39m\u001b[33mmessages\u001b[39m\u001b[33m\"\u001b[39m].append(\u001b[33m\"\u001b[39m\u001b[33mAgent: Great! The form is complete.\u001b[39m\u001b[33m\"\u001b[39m)\n",
      "\u001b[31mAttributeError\u001b[39m: 'CompiledStateGraph' object has no attribute 'step'"
     ]
    }
   ],
   "source": []
  }
 ],
 "metadata": {
  "kernelspec": {
   "display_name": "ai-agent (3.11.4)",
   "language": "python",
   "name": "python3"
  },
  "language_info": {
   "codemirror_mode": {
    "name": "ipython",
    "version": 3
   },
   "file_extension": ".py",
   "mimetype": "text/x-python",
   "name": "python",
   "nbconvert_exporter": "python",
   "pygments_lexer": "ipython3",
   "version": "3.11.4"
  }
 },
 "nbformat": 4,
 "nbformat_minor": 5
}
