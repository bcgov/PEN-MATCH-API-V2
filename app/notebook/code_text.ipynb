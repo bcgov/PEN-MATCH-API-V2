{
 "cells": [
  {
   "cell_type": "code",
   "execution_count": null,
   "id": "cfbca5e8",
   "metadata": {},
   "outputs": [
    {
     "ename": "SyntaxError",
     "evalue": "invalid syntax (129898459.py, line 2)",
     "output_type": "error",
     "traceback": [
      "  \u001b[36mCell\u001b[39m\u001b[36m \u001b[39m\u001b[32mIn[25]\u001b[39m\u001b[32m, line 2\u001b[39m\n\u001b[31m    \u001b[39m\u001b[31moutput_text = ```{'user_message': 'yes', 'current_field_details': {'data_id': 'V1IsEligibleForFeeExemption', 'field_label': 'Are you eligible for fee exemption?', 'field_type': 'radio', 'field_value': '', 'is_required': True, 'options': ['Yes', 'No']}, 'output': 'Agent stopped due to iteration limit or time limit.', 'intermediate_steps': [(AgentAction(tool='_Exception', tool_input=\"Invalid Format: Missing 'Action:' after 'Thought:'\", log='{\\n  \"data_id\": \"V1IsEligibleForFeeExemption\",\\n  \"field_label\": \"Are you eligible for fee exemption?\",\\n  \"field_type\": \"radio\",\\n  \"field_value\": \"Yes\",\\n  \"is_required\": true,\\n  \"options\": [\"Yes\", \"No\"]\\n}'), \"Invalid Format: Missing 'Action:' after 'Thought:'\"), (AgentAction(tool='_Exception', tool_input='Invalid or incomplete response', log='Parsing LLM output produced both a final answer and a parse-able action:: Sure! Let\\'s fill out the form based on your input and check for any missing fields.\\n\\n**Observation:** \\nUser has indicated \"yes,\" which suggests they believe they are eligible for a fee exemption.\\n\\n**Action:**\\nUpdate the form to reflect that the user is eligible for fee exemption.\\n\\n**Action Input:**\\n```json\\n{\\n  \"data_id\": \"V1IsEligibleForFeeExemption\",\\n  \"field_label\": \"Are you eligible for fee exemption?\",\\n  \"field_type\": \"radio\",\\n  \"field_value\": \"Yes\",\\n  \"is_required\": true,\\n  \"options\": [\"Yes\", \"No\"]\\n}\\n```\\n\\nNow, I will check for any missing fields.\\n\\n**Final Answer:**\\n```json\\n{\\n  \"form\": {\\n    \"data_id\": \"V1IsEligibleForFeeExemption\",\\n    \"field_label\": \"Are you eligible for fee exemption?\",\\n    \"field_type\": \"radio\",\\n    \"field_value\": \"Yes\",\\n    \"is_required\": true,\\n    \"options\": [\"Yes\", \"No\"]\\n  },\\n  \"missing_fields\": []\\n}\\n```\\nFor troubleshooting, visit: https://python.langchain.com/docs/troubleshooting/errors/OUTPUT_PARSING_FAILURE '), 'Invalid or incomplete response'), (AgentAction(tool='_Exception', tool_input='Invalid or incomplete response', log='Parsing LLM output produced both a final answer and a parse-able action:: The user\\'s message indicates they are eligible for fee exemption. I need to update the form based on this input.\\n\\n**Action:**\\nUpdate the form to reflect that the user believes they are eligible for fee exemption.\\n\\n**Action Input:**\\n```json\\n{\\n  \"data_id\": \"V1IsEligibleForFeeExemption\",\\n  \"field_label\": \"Are you eligible for fee exemption?\",\\n  \"field_type\": \"radio\",\\n  \"field_value\": \"Yes\",\\n  \"is_required\": true,\\n  \"options\": [\"Yes\", \"No\"]\\n}\\n```\\n\\nNow, I will check for any missing fields in the form.\\n\\n**Final Answer:**\\n```json\\n{\\n  \"form\": {\\n    \"data_id\": \"V1IsEligibleForFeeExemption\",\\n    \"field_label\": \"Are you eligible for fee exemption?\",\\n    \"field_type\": \"radio\",\\n    \"field_value\": \"Yes\",\\n    \"is_required\": true,\\n    \"options\": [\"Yes\", \"No\"]\\n  },\\n  \"missing_fields\": []\\n}\\n```\\nFor troubleshooting, visit: https://python.langchain.com/docs/troubleshooting/errors/OUTPUT_PARSING_FAILURE '), 'Invalid or incomplete response'), (AgentAction(tool='_Exception', tool_input='Invalid or incomplete response', log='Parsing LLM output produced both a final answer and a parse-able action:: The user\\'s message indicates they believe they are eligible for fee exemption, which will allow me to fill the form accordingly.\\n\\n**Action:**\\nUpdate the form to reflect that the user is eligible for fee exemption.\\n\\n**Action Input:**\\n```json\\n{\\n  \"data_id\": \"V1IsEligibleForFeeExemption\",\\n  \"field_label\": \"Are you eligible for fee exemption?\",\\n  \"field_type\": \"radio\",\\n  \"field_value\": \"Yes\",\\n  \"is_required\": true,\\n  \"options\": [\"Yes\", \"No\"]\\n}\\n```\\n\\nNow, I will check for any missing fields in the form.\\n\\n**Final Answer:**\\n```json\\n{\\n  \"form\": {\\n    \"data_id\": \"V1IsEligibleForFeeExemption\",\\n    \"field_label\": \"Are you eligible for fee exemption?\",\\n    \"field_type\": \"radio\",\\n    \"field_value\": \"Yes\",\\n    \"is_required\": true,\\n    \"options\": [\"Yes\", \"No\"]\\n  },\\n  \"missing_fields\": []\\n}\\n```\\nFor troubleshooting, visit: https://python.langchain.com/docs/troubleshooting/errors/OUTPUT_PARSING_FAILURE '), 'Invalid or incomplete response')]}```\u001b[39m\n                  ^\n\u001b[31mSyntaxError\u001b[39m\u001b[31m:\u001b[39m invalid syntax\n"
     ]
    }
   ],
   "source": [
    "import json\n",
    "output_text = \"{'user_message': 'yes', 'current_field_details': {'data_id': 'V1IsEligibleForFeeExemption', 'field_label': 'Are you eligible for fee exemption?', 'field_type': 'radio', 'field_value': '', 'is_required': True, 'options': ['Yes', 'No']}, 'output': 'Agent stopped due to iteration limit or time limit.', 'intermediate_steps': [(AgentAction(tool='_Exception', tool_input=\"Invalid Format: Missing 'Action:' after 'Thought:'\", log='{\\n  \"data_id\": \"V1IsEligibleForFeeExemption\",\\n  \"field_label\": \"Are you eligible for fee exemption?\",\\n  \"field_type\": \"radio\",\\n  \"field_value\": \"Yes\",\\n  \"is_required\": true,\\n  \"options\": [\"Yes\", \"No\"]\\n}'), \"Invalid Format: Missing 'Action:' after 'Thought:'\"), (AgentAction(tool='_Exception', tool_input='Invalid or incomplete response', log='Parsing LLM output produced both a final answer and a parse-able action:: Sure! Let\\'s fill out the form based on your input and check for any missing fields.\\n\\n**Observation:** \\nUser has indicated \"yes,\" which suggests they believe they are eligible for a fee exemption.\\n\\n**Action:**\\nUpdate the form to reflect that the user is eligible for fee exemption.\\n\\n**Action Input:**\\n```json\\n{\\n  \"data_id\": \"V1IsEligibleForFeeExemption\",\\n  \"field_label\": \"Are you eligible for fee exemption?\",\\n  \"field_type\": \"radio\",\\n  \"field_value\": \"Yes\",\\n  \"is_required\": true,\\n  \"options\": [\"Yes\", \"No\"]\\n}\\n```\\n\\nNow, I will check for any missing fields.\\n\\n**Final Answer:**\\n```json\\n{\\n  \"form\": {\\n    \"data_id\": \"V1IsEligibleForFeeExemption\",\\n    \"field_label\": \"Are you eligible for fee exemption?\",\\n    \"field_type\": \"radio\",\\n    \"field_value\": \"Yes\",\\n    \"is_required\": true,\\n    \"options\": [\"Yes\", \"No\"]\\n  },\\n  \"missing_fields\": []\\n}\\n```\\nFor troubleshooting, visit: https://python.langchain.com/docs/troubleshooting/errors/OUTPUT_PARSING_FAILURE '), 'Invalid or incomplete response'), (AgentAction(tool='_Exception', tool_input='Invalid or incomplete response', log='Parsing LLM output produced both a final answer and a parse-able action:: The user\\'s message indicates they are eligible for fee exemption. I need to update the form based on this input.\\n\\n**Action:**\\nUpdate the form to reflect that the user believes they are eligible for fee exemption.\\n\\n**Action Input:**\\n```json\\n{\\n  \"data_id\": \"V1IsEligibleForFeeExemption\",\\n  \"field_label\": \"Are you eligible for fee exemption?\",\\n  \"field_type\": \"radio\",\\n  \"field_value\": \"Yes\",\\n  \"is_required\": true,\\n  \"options\": [\"Yes\", \"No\"]\\n}\\n```\\n\\nNow, I will check for any missing fields in the form.\\n\\n**Final Answer:**\\n```json\\n{\\n  \"form\": {\\n    \"data_id\": \"V1IsEligibleForFeeExemption\",\\n    \"field_label\": \"Are you eligible for fee exemption?\",\\n    \"field_type\": \"radio\",\\n    \"field_value\": \"Yes\",\\n    \"is_required\": true,\\n    \"options\": [\"Yes\", \"No\"]\\n  },\\n  \"missing_fields\": []\\n}\\n```\\nFor troubleshooting, visit: https://python.langchain.com/docs/troubleshooting/errors/OUTPUT_PARSING_FAILURE '), 'Invalid or incomplete response'), (AgentAction(tool='_Exception', tool_input='Invalid or incomplete response', log='Parsing LLM output produced both a final answer and a parse-able action:: The user\\'s message indicates they believe they are eligible for fee exemption, which will allow me to fill the form accordingly.\\n\\n**Action:**\\nUpdate the form to reflect that the user is eligible for fee exemption.\\n\\n**Action Input:**\\n```json\\n{\\n  \"data_id\": \"V1IsEligibleForFeeExemption\",\\n  \"field_label\": \"Are you eligible for fee exemption?\",\\n  \"field_type\": \"radio\",\\n  \"field_value\": \"Yes\",\\n  \"is_required\": true,\\n  \"options\": [\"Yes\", \"No\"]\\n}\\n```\\n\\nNow, I will check for any missing fields in the form.\\n\\n**Final Answer:**\\n```json\\n{\\n  \"form\": {\\n    \"data_id\": \"V1IsEligibleForFeeExemption\",\\n    \"field_label\": \"Are you eligible for fee exemption?\",\\n    \"field_type\": \"radio\",\\n    \"field_value\": \"Yes\",\\n    \"is_required\": true,\\n    \"options\": [\"Yes\", \"No\"]\\n  },\\n  \"missing_fields\": []\\n}\\n```\\nFor troubleshooting, visit: https://python.langchain.com/docs/troubleshooting/errors/OUTPUT_PARSING_FAILURE '), 'Invalid or incomplete response')]}\"\n",
    "\n",
    "cleaned_str = output_text.replace('True', 'true').replace('False', 'false')\n",
    "form_data = json.loads(cleaned_str)\n",
    "#cleaned_str = cleaned_str.get(\"missing_fields\", [])\n",
    "print(cleaned_str)\n",
    "\n",
    "print(form_data.get(\"missing_fields\"))\n",
    "print(form_data.get(\"filled_fields\", {}))\n",
    "\n",
    "missing_fields = form_data.get(\"missing_fields\", [])\n",
    "filled_fields = form_data.get(\"filled_fields\", {})\n",
    "formFields = form_data.get(\"formFields\", [])\n",
    "\n",
    "status = \"completed\" if not missing_fields else \"awaiting_info\"\n",
    "current_field = missing_fields[0] if missing_fields else None\n",
    "\n",
    "current_field_details = next((f for f in form_data.get(\"formFields\", []) if f[\"data_id\"] == current_field), {})\n",
    "\n",
    "#print(output_text)\n",
    "\n",
    "# response_text = form_data.get(\"message\", \"\")\n",
    "# print(response_text)"
   ]
  },
  {
   "cell_type": "code",
   "execution_count": null,
   "id": "cc564937",
   "metadata": {},
   "outputs": [],
   "source": []
  }
 ],
 "metadata": {
  "kernelspec": {
   "display_name": "ai-agent (3.11.4)",
   "language": "python",
   "name": "python3"
  },
  "language_info": {
   "codemirror_mode": {
    "name": "ipython",
    "version": 3
   },
   "file_extension": ".py",
   "mimetype": "text/x-python",
   "name": "python",
   "nbconvert_exporter": "python",
   "pygments_lexer": "ipython3",
   "version": "3.11.4"
  }
 },
 "nbformat": 4,
 "nbformat_minor": 5
}
