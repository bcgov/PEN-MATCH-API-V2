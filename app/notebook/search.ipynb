{
 "cells": [
  {
   "cell_type": "code",
   "execution_count": 3,
   "id": "79bc908c",
   "metadata": {},
   "outputs": [
    {
     "name": "stdout",
     "output_type": "stream",
     "text": [
      "Hello Notebook Mode!\n"
     ]
    }
   ],
   "source": [
    "print(\"Hello Notebook Mode!\")"
   ]
  },
  {
   "cell_type": "code",
   "execution_count": 11,
   "id": "c462d8c2",
   "metadata": {},
   "outputs": [
    {
     "data": {
      "text/plain": [
       "True"
      ]
     },
     "execution_count": 11,
     "metadata": {},
     "output_type": "execute_result"
    }
   ],
   "source": [
    "import json\n",
    "import os\n",
    "import logging\n",
    "from typing import Optional, List, TypedDict\n",
    "\n",
    "from langchain.tools import tool\n",
    "from dotenv import load_dotenv\n",
    "from langchain_openai import AzureChatOpenAI\n",
    "from azure.core.exceptions import AzureError\n",
    "from azure.search.documents import SearchClient\n",
    "from azure.core.credentials import AzureKeyCredential\n",
    "import ast\n",
    "\n",
    "load_dotenv()"
   ]
  },
  {
   "cell_type": "code",
   "execution_count": 18,
   "id": "1acb0fba",
   "metadata": {},
   "outputs": [
    {
     "name": "stdout",
     "output_type": "stream",
     "text": [
      "[{'content': \"· By phone toll-free at 1.877.855.3222 (within North America) or +1.778.372.0729 (outside of North America).\\n. By email at FrontCounterBC@gov.bc.ca.\\n• In person across BC at one of the many FrontCounter BC locations\\nPlease ensure that you know the correct water use purpose for your application. If you cannot find what you are looking for, please use a 'Ctrl F' search within this word document.\", 'id': 'MWY5ZmE1OTEtNjdjNC00NjM0LWJhODEtZmJkYWYyMTgzNjc2', 'metadata': '{\"source\": \"water_use_purpose_defns.pdf\", \"processed_with\": \"azure_document_intelligence\"}', '@search.score': 11.200959, '@search.reranker_score': None, '@search.highlights': None, '@search.captions': None}, {'content': '\"Step 2 - Please select one of the following purpose uses?\" These are the water use subpurposes in blue text below (beginning on page 2)\\nPlease note that there are a wide variety of water uses that fall under the different water use purposes, in particular \"industrial\" water use (e.g., watering livestock) - the example list to the right is what you will see in the on-line application.\\nPlease contact FrontCounter BC with any questions:', 'id': 'NWE2Yzc2MTUtZWNmMC00NjkzLTg5ZjMtNGVhZDQ1YmFmYmUy', 'metadata': '{\"source\": \"water_use_purpose_defns.pdf\", \"processed_with\": \"azure_document_intelligence\"}', '@search.score': 8.7804575, '@search.reranker_score': None, '@search.highlights': None, '@search.captions': None}]\n"
     ]
    }
   ],
   "source": [
    "message =\"what is water licence form for bc government\"\n",
    "\n",
    "search_endpoint = os.environ.get(\"AZURE_SEARCH_ENDPOINT\")\n",
    "search_key = os.environ.get(\"AZURE_SEARCH_KEY\")\n",
    "index_name = os.environ.get(\"AZURE_SEARCH_INDEX_NAME\")\n",
    "credential = AzureKeyCredential(search_key)\n",
    "client = SearchClient(\n",
    "    endpoint=search_endpoint,\n",
    "    index_name=index_name,\n",
    "    credential=credential,\n",
    ")\n",
    "search_results = client.search(\n",
    "    search_text=message,\n",
    "    select=[\"*\"],\n",
    "    top=2,\n",
    ")\n",
    "results = [dict(r) for r in search_results]\n",
    "print(results)\n"
   ]
  },
  {
   "cell_type": "code",
   "execution_count": null,
   "id": "dfb4baa6",
   "metadata": {},
   "outputs": [],
   "source": []
  }
 ],
 "metadata": {
  "kernelspec": {
   "display_name": "ai-agent (3.11.4)",
   "language": "python",
   "name": "python3"
  },
  "language_info": {
   "codemirror_mode": {
    "name": "ipython",
    "version": 3
   },
   "file_extension": ".py",
   "mimetype": "text/x-python",
   "name": "python",
   "nbconvert_exporter": "python",
   "pygments_lexer": "ipython3",
   "version": "3.11.4"
  }
 },
 "nbformat": 4,
 "nbformat_minor": 5
}
